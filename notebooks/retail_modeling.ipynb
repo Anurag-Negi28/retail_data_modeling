{
 "cells": [
  {
   "cell_type": "markdown",
   "metadata": {},
   "source": []
  },
  {
   "cell_type": "markdown",
   "metadata": {},
   "source": [
    "# Retail Data Modeling: Star and Snowflake Schemas"
   ]
  },
  {
   "cell_type": "code",
   "execution_count": 2,
   "metadata": {},
   "outputs": [
    {
     "ename": "ModuleNotFoundError",
     "evalue": "No module named 'src'",
     "output_type": "error",
     "traceback": [
      "\u001b[31m---------------------------------------------------------------------------\u001b[39m",
      "\u001b[31mModuleNotFoundError\u001b[39m                       Traceback (most recent call last)",
      "\u001b[36mCell\u001b[39m\u001b[36m \u001b[39m\u001b[32mIn[2]\u001b[39m\u001b[32m, line 3\u001b[39m\n\u001b[32m      1\u001b[39m \u001b[38;5;28;01mimport\u001b[39;00m\u001b[38;5;250m \u001b[39m\u001b[34;01mpandas\u001b[39;00m\u001b[38;5;250m \u001b[39m\u001b[38;5;28;01mas\u001b[39;00m\u001b[38;5;250m \u001b[39m\u001b[34;01mpd\u001b[39;00m\n\u001b[32m      2\u001b[39m \u001b[38;5;28;01mimport\u001b[39;00m\u001b[38;5;250m \u001b[39m\u001b[34;01mmatplotlib\u001b[39;00m\u001b[34;01m.\u001b[39;00m\u001b[34;01mpyplot\u001b[39;00m\u001b[38;5;250m \u001b[39m\u001b[38;5;28;01mas\u001b[39;00m\u001b[38;5;250m \u001b[39m\u001b[34;01mplt\u001b[39;00m\n\u001b[32m----> \u001b[39m\u001b[32m3\u001b[39m \u001b[38;5;28;01mfrom\u001b[39;00m\u001b[38;5;250m \u001b[39m\u001b[34;01msrc\u001b[39;00m\u001b[34;01m.\u001b[39;00m\u001b[34;01mdata_generator\u001b[39;00m\u001b[38;5;250m \u001b[39m\u001b[38;5;28;01mimport\u001b[39;00m generate_products, generate_customers, generate_time, generate_sales, save_dataframes\n\u001b[32m      4\u001b[39m \u001b[38;5;28;01mfrom\u001b[39;00m\u001b[38;5;250m \u001b[39m\u001b[34;01msrc\u001b[39;00m\u001b[34;01m.\u001b[39;00m\u001b[34;01mstar_schema\u001b[39;00m\u001b[38;5;250m \u001b[39m\u001b[38;5;28;01mimport\u001b[39;00m apply_scd_type1, apply_scd_type2, create_star_schema\n\u001b[32m      5\u001b[39m \u001b[38;5;28;01mfrom\u001b[39;00m\u001b[38;5;250m \u001b[39m\u001b[34;01msrc\u001b[39;00m\u001b[34;01m.\u001b[39;00m\u001b[34;01msnowflake_schema\u001b[39;00m\u001b[38;5;250m \u001b[39m\u001b[38;5;28;01mimport\u001b[39;00m create_snowflake_schema\n",
      "\u001b[31mModuleNotFoundError\u001b[39m: No module named 'src'"
     ]
    }
   ],
   "source": [
    "import pandas as pd\n",
    "import matplotlib.pyplot as plt\n",
    "from src.data_generator import generate_products, generate_customers, generate_time, generate_sales, save_dataframes\n",
    "from src.star_schema import apply_scd_type1, apply_scd_type2, create_star_schema\n",
    "from src.snowflake_schema import create_snowflake_schema"
   ]
  },
  {
   "cell_type": "code",
   "execution_count": null,
   "metadata": {},
   "outputs": [],
   "source": [
    "# Generate mock data\n",
    "products = generate_products(10)\n",
    "customers = generate_customers(20)\n",
    "time = generate_time()\n",
    "sales = generate_sales(products, customers, time, 100)\n",
    "save_dataframes(products, customers, time, sales)"
   ]
  },
  {
   "cell_type": "code",
   "execution_count": null,
   "metadata": {},
   "outputs": [],
   "source": [
    "# Apply SCD Type 1\n",
    "customers_scd1 = apply_scd_type1(customers.copy(), customer_id=1, new_address='123 New St')"
   ]
  },
  {
   "cell_type": "code",
   "execution_count": null,
   "metadata": {},
   "outputs": [],
   "source": [
    "# Apply SCD Type 2\n",
    "customers_scd2 = apply_scd_type2(customers.copy(), customer_id=2, new_address='456 Updated Rd', effective_date=pd.to_datetime('2024-06-01'))"
   ]
  },
  {
   "cell_type": "code",
   "execution_count": null,
   "metadata": {},
   "outputs": [],
   "source": [
    "# Create schemas\n",
    "create_star_schema()\n",
    "create_snowflake_schema()"
   ]
  },
  {
   "cell_type": "code",
   "execution_count": null,
   "metadata": {},
   "outputs": [],
   "source": [
    "# Visualize sales by category (Star Schema)\n",
    "star_sales = pd.read_csv('data/processed/star/fact_sales.csv')\n",
    "star_products = pd.read_csv('data/processed/star/dim_products.csv')\n",
    "sales_by_category = star_sales.merge(star_products, on='product_id').groupby('category')['total_amount'].sum()\n",
    "sales_by_category.plot(kind='bar', title='Sales by Category (Star Schema)')\n",
    "plt.show()"
   ]
  },
  {
   "cell_type": "code",
   "execution_count": 1,
   "metadata": {},
   "outputs": [
    {
     "ename": "NameError",
     "evalue": "name 'pd' is not defined",
     "output_type": "error",
     "traceback": [
      "\u001b[31m---------------------------------------------------------------------------\u001b[39m",
      "\u001b[31mNameError\u001b[39m                                 Traceback (most recent call last)",
      "\u001b[36mCell\u001b[39m\u001b[36m \u001b[39m\u001b[32mIn[1]\u001b[39m\u001b[32m, line 2\u001b[39m\n\u001b[32m      1\u001b[39m \u001b[38;5;66;03m# Visualize sales by month (Snowflake Schema)\u001b[39;00m\n\u001b[32m----> \u001b[39m\u001b[32m2\u001b[39m snow_sales = \u001b[43mpd\u001b[49m.read_csv(\u001b[33m'\u001b[39m\u001b[33mdata/processed/snowflake/fact_sales.csv\u001b[39m\u001b[33m'\u001b[39m)\n\u001b[32m      3\u001b[39m snow_time = pd.read_csv(\u001b[33m'\u001b[39m\u001b[33mdata/processed/snowflake/dim_time.csv\u001b[39m\u001b[33m'\u001b[39m)\n\u001b[32m      4\u001b[39m snow_months = pd.read_csv(\u001b[33m'\u001b[39m\u001b[33mdata/processed/snowflake/dim_months.csv\u001b[39m\u001b[33m'\u001b[39m)\n",
      "\u001b[31mNameError\u001b[39m: name 'pd' is not defined"
     ]
    }
   ],
   "source": [
    "# Visualize sales by month (Snowflake Schema)\n",
    "snow_sales = pd.read_csv('data/processed/snowflake/fact_sales.csv')\n",
    "snow_time = pd.read_csv('data/processed/snowflake/dim_time.csv')\n",
    "snow_months = pd.read_csv('data/processed/snowflake/dim_months.csv')\n",
    "sales_by_month = snow_sales.merge(snow_time, on='date_id').merge(snow_months, on='month_id')\n",
    "sales_by_month = sales_by_month.groupby(['year', 'month'])['total_amount'].sum()\n",
    "sales_by_month.plot(kind='line', title='Sales by Month (Snowflake Schema)')\n",
    "plt.show()"
   ]
  }
 ],
 "metadata": {
  "kernelspec": {
   "display_name": "modelling_env",
   "language": "python",
   "name": "python3"
  },
  "language_info": {
   "codemirror_mode": {
    "name": "ipython",
    "version": 3
   },
   "file_extension": ".py",
   "mimetype": "text/x-python",
   "name": "python",
   "nbconvert_exporter": "python",
   "pygments_lexer": "ipython3",
   "version": "3.12.0"
  }
 },
 "nbformat": 4,
 "nbformat_minor": 4
}
